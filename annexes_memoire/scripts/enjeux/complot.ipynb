{
 "cells": [
  {
   "cell_type": "code",
   "execution_count": 1,
   "metadata": {},
   "outputs": [],
   "source": [
    "import pandas as pd\n",
    "import matplotlib.pyplot as plt\n",
    "import numpy as np"
   ]
  },
  {
   "cell_type": "code",
   "execution_count": 2,
   "metadata": {},
   "outputs": [],
   "source": [
    "def read_words_complot(file) :\n",
    "  words = pd.read_csv(file)\n",
    "  df = pd.DataFrame(words, columns = [\"Words\", \"Focus\"])\n",
    "  s = pd.Series(df[\"Words\"]).astype(str)\n",
    "  e_majorité = s[s.str.contains(\"fausse|informations|désinformation|fake|news|complot\")]\n",
    "  return(e_majorité)"
   ]
  },
  {
   "cell_type": "code",
   "execution_count": 3,
   "metadata": {},
   "outputs": [],
   "source": [
    "d = {\"LREM\" : read_words_complot(\"words_lrem\"), \n",
    "     \"LR\" : read_words_complot(\"words_lr\"), \n",
    "     \"RN\" : read_words_complot(\"words_rn\"),\n",
    "    \"LFI\" : read_words_complot(\"words_lfi\"),\n",
    "    \"EELV\" : read_words_complot(\"words_eelv\"),\n",
    "    \"centre-droit\" : read_words_complot(\"words_centre\"),\n",
    "    \"socialistes\" : read_words_complot(\"words_soc\"),\n",
    "    \"principaux médias\" : read_words_complot(\"words_mm\")\n",
    "    }\n",
    "df = pd.DataFrame(d)\n",
    "df.to_latex(\"read_words_complot.tex\")"
   ]
  },
  {
   "cell_type": "code",
   "execution_count": 4,
   "metadata": {},
   "outputs": [],
   "source": [
    "def read_bigrams_complot(file) :\n",
    "  words = pd.read_csv(file)\n",
    "  df = pd.DataFrame(words, columns = [\"Focus Values\", \"Focus\"])\n",
    "  s = pd.Series(df[\"Focus Values\"]).astype(str)\n",
    "  e_majorité = s[s.str.contains(\"fausse|informations|désinformation|fake|news|complot\")]\n",
    "  return(e_majorité)"
   ]
  },
  {
   "cell_type": "code",
   "execution_count": 5,
   "metadata": {},
   "outputs": [],
   "source": [
    "e = {\"LREM\" : read_bigrams_complot(\"bigrams_lrem\"),\n",
    "     \"LFI\" : read_bigrams_complot(\"bigrams_lfi\"),\n",
    "    \"Les Républicains\" : read_bigrams_complot(\"bigrams_lr\"),\n",
    "    \"Rassemblement National\" : read_bigrams_complot(\"bigrams_rn\"),\n",
    "    \"EELV\" : read_bigrams_complot(\"bigrams_eelv\"),\n",
    "    \"Centre Droit\" : read_bigrams_complot(\"bigrams_centre\"),\n",
    "     \"Socialistes\" : read_bigrams_complot(\"bigrams_soc\"),\n",
    "    \"Principaux médias\" : read_bigrams_complot(\"bigrams_mm\")}\n",
    "e\n",
    "df = pd.DataFrame(e)\n",
    "df.to_latex(\"read_bigrams_complot.tex\")"
   ]
  },
  {
   "cell_type": "code",
   "execution_count": 6,
   "metadata": {},
   "outputs": [],
   "source": [
    "def read_trigrams_complot(file) :\n",
    "  words = pd.read_csv(file)\n",
    "  df = pd.DataFrame(words, columns = [\"Focus Values\", \"Focus\"])\n",
    "  s = pd.Series(df[\"Focus Values\"]).astype(str)\n",
    "  e_majorité = s[s.str.contains(\"fausse|informations|désinformation|fake|news|complot\")]\n",
    "  return(e_majorité)"
   ]
  },
  {
   "cell_type": "code",
   "execution_count": 7,
   "metadata": {},
   "outputs": [],
   "source": [
    "e = {\"LREM\" : read_trigrams_complot(\"trigrams_lrem\"),\n",
    "     \"LFI\" : read_trigrams_complot(\"trigrams_lfi\"),\n",
    "    \"Les Républicains\" : read_trigrams_complot(\"trigrams_lr\"),\n",
    "    \"Rassemblement National\" : read_trigrams_complot(\"trigrams_rn\"),\n",
    "    \"EELV\" : read_trigrams_complot(\"trigrams_eelv\"),\n",
    "    \"Centre Droit\" : read_trigrams_complot(\"trigrams_centre\"),\n",
    "     \"Socialistes\" : read_trigrams_complot(\"trigrams_soc\"),\n",
    "    \"Principaux médias\" : read_trigrams_complot(\"trigrams_mm\")}\n",
    "df = pd.DataFrame(e)\n",
    "df.to_latex(\"read_trigrams_complot.tex\")"
   ]
  },
  {
   "cell_type": "code",
   "execution_count": null,
   "metadata": {},
   "outputs": [],
   "source": []
  }
 ],
 "metadata": {
  "kernelspec": {
   "display_name": "Python 3",
   "language": "python",
   "name": "python3"
  },
  "language_info": {
   "codemirror_mode": {
    "name": "ipython",
    "version": 3
   },
   "file_extension": ".py",
   "mimetype": "text/x-python",
   "name": "python",
   "nbconvert_exporter": "python",
   "pygments_lexer": "ipython3",
   "version": "3.7.4"
  }
 },
 "nbformat": 4,
 "nbformat_minor": 4
}
