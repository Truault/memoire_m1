{
 "cells": [
  {
   "cell_type": "code",
   "execution_count": 1,
   "metadata": {},
   "outputs": [],
   "source": [
    "import pandas as pd\n",
    "import matplotlib.pyplot as plt\n",
    "import numpy as np"
   ]
  },
  {
   "cell_type": "code",
   "execution_count": 3,
   "metadata": {},
   "outputs": [],
   "source": [
    "def read_words_exclusion(file) :\n",
    "  words = pd.read_csv(file)\n",
    "  df = pd.DataFrame(words, columns = [\"Words\", \"Focus\"])\n",
    "  s = pd.Series(df[\"Words\"]).astype(str)\n",
    "  e_exclusion = s[s.str.contains(\"exclu|marginal|aliénation|isol|solitude|seul|stigmatisation|sdf|sans-abri\")]\n",
    "  return(e_exclusion)"
   ]
  },
  {
   "cell_type": "code",
   "execution_count": 4,
   "metadata": {},
   "outputs": [
    {
     "data": {
      "text/plain": [
       "{'LREM': 3687    isolement\n",
       " Name: Words, dtype: object,\n",
       " 'LR': Series([], Name: Words, dtype: object),\n",
       " 'RN': 623          sdf\n",
       " 4188    solitude\n",
       " Name: Words, dtype: object,\n",
       " 'LFI': 789           sdf\n",
       " 5029    isolement\n",
       " Name: Words, dtype: object,\n",
       " 'EELV': 4067    isolement\n",
       " Name: Words, dtype: object,\n",
       " 'centre-droit': 1672    isolement\n",
       " Name: Words, dtype: object,\n",
       " 'socialistes': 2799    isolement\n",
       " 3125     solitude\n",
       " Name: Words, dtype: object,\n",
       " 'principaux médias': Series([], Name: Words, dtype: object)}"
      ]
     },
     "execution_count": 4,
     "metadata": {},
     "output_type": "execute_result"
    }
   ],
   "source": [
    "d = {\"LREM\" : read_words_exclusion(\"words_lrem\"), \n",
    "     \"LR\" : read_words_exclusion(\"words_lr\"), \n",
    "     \"RN\" : read_words_exclusion(\"words_rn\"),\n",
    "    \"LFI\" : read_words_exclusion(\"words_lfi\"),\n",
    "    \"EELV\" : read_words_exclusion(\"words_eelv\"),\n",
    "    \"centre-droit\" : read_words_exclusion(\"words_centre\"),\n",
    "    \"socialistes\" : read_words_exclusion(\"words_soc\"),\n",
    "    \"principaux médias\" : read_words_exclusion(\"words_mm\")\n",
    "    }\n",
    "d\n",
    "#df = pd.DataFrame(a)"
   ]
  },
  {
   "cell_type": "code",
   "execution_count": 9,
   "metadata": {},
   "outputs": [],
   "source": [
    "def read_bigrams_exclusion(file) :\n",
    "  words = pd.read_csv(file)\n",
    "  df = pd.DataFrame(words, columns = [\"Focus Values\", \"Focus\"])\n",
    "  s = pd.Series(df[\"Focus Values\"]).astype(str)\n",
    "  e_exclusion = s[s.str.contains(\"exclu|marginal|aliénation|isol|solitude|seul|stigmatisation|sdf|sans-abri\")]\n",
    "  return(e_exclusion)"
   ]
  },
  {
   "cell_type": "code",
   "execution_count": 10,
   "metadata": {},
   "outputs": [
    {
     "data": {
      "text/plain": [
       "{'LREM': 142             seule inéligible\n",
       " 768     invective stigmatisation\n",
       " 769       stigmatisation menaces\n",
       " 1535             voyageant seuls\n",
       " Name: Focus Values, dtype: object, 'LFI': 621     frontalement seuls\n",
       " 622        seuls organisés\n",
       " 1311             seul ordr\n",
       " 1471          seul prostré\n",
       " 2743    alexcharlet seules\n",
       " 2848        seules phrases\n",
       " 3443       affrontait seul\n",
       " 3817          isolé écoute\n",
       " Name: Focus Values, dtype: object, 'Les Républicains': 1158    denistillinac seul\n",
       " 1422          isolé écoute\n",
       " 1817         isolé esseulé\n",
       " 4790      seule inéligible\n",
       " Name: Focus Values, dtype: object, 'Rassemblement National': 1232       mineur isolé\n",
       " 3548      isolé esseulé\n",
       " 4254    affrontait seul\n",
       " 4472       isolé écoute\n",
       " Name: Focus Values, dtype: object, 'EELV': 1281    frontalement seuls\n",
       " 1282       seuls organisés\n",
       " 1373       hurlions seules\n",
       " Name: Focus Values, dtype: object, 'Centre Droit': 295    seule inéligible\n",
       " Name: Focus Values, dtype: object, 'Socialistes': 546       isolé écoute\n",
       " 554    hurlions seules\n",
       " Name: Focus Values, dtype: object, 'Principaux médias': 546       isolé écoute\n",
       " 554    hurlions seules\n",
       " Name: Focus Values, dtype: object}"
      ]
     },
     "execution_count": 10,
     "metadata": {},
     "output_type": "execute_result"
    }
   ],
   "source": [
    "e = {\"LREM\" : read_bigrams_exclusion(\"bigrams_lrem\"),\n",
    "     \"LFI\" : read_bigrams_exclusion(\"bigrams_lfi\"),\n",
    "    \"Les Républicains\" : read_bigrams_exclusion(\"bigrams_lr\"),\n",
    "    \"Rassemblement National\" : read_bigrams_exclusion(\"bigrams_rn\"),\n",
    "    \"EELV\" : read_bigrams_exclusion(\"bigrams_eelv\"),\n",
    "    \"Centre Droit\" : read_bigrams_exclusion(\"bigrams_centre\"),\n",
    "     \"Socialistes\" : read_bigrams_exclusion(\"bigrams_soc\"),\n",
    "    \"Principaux médias\" : read_bigrams_exclusion(\"bigrams_mm\")}\n",
    "e\n",
    "#df = pd.DataFrame(a)\n",
    "#df.to_excel(\"bigrams_degradation.xlsx\", engine = \"xlsxwriter\")"
   ]
  },
  {
   "cell_type": "code",
   "execution_count": 13,
   "metadata": {},
   "outputs": [],
   "source": [
    "def read_trigrams_exclusion(file) :\n",
    "  words = pd.read_csv(file)\n",
    "  df = pd.DataFrame(words, columns = [\"Focus Values\", \"Focus\"])\n",
    "  s = pd.Series(df[\"Focus Values\"]).astype(str)\n",
    "  e_exclusion = s[s.str.contains(\"exclu|marginal|aliénation|isol|solitude|seul|stigmatisation|sdf|sans-abri\")]\n",
    "  return(e_exclusion)"
   ]
  },
  {
   "cell_type": "code",
   "execution_count": 14,
   "metadata": {},
   "outputs": [
    {
     "data": {
      "text/plain": [
       "{'LREM': 13            chaleureuse malades seuls\n",
       " 583       stigmatisation menaces envers\n",
       " 584    invective stigmatisation menaces\n",
       " 585    insulte invective stigmatisation\n",
       " Name: Focus Values, dtype: object,\n",
       " 'LFI': 455       attaquer frontalement seuls\n",
       " 456      frontalement seuls organisés\n",
       " 610           assange seul emprisonné\n",
       " 611           seul emprisonné torturé\n",
       " 954              étranger isolé placé\n",
       " 955                   isolé placé gav\n",
       " 972             mineur étranger isolé\n",
       " 1232            seul prostré qualifié\n",
       " 1295               seuls battre nelle\n",
       " 1803             tarif affronter seul\n",
       " 1909              affronter seul quic\n",
       " 2000              live exclusif casta\n",
       " 2001             tweete live exclusif\n",
       " 2002          exclusif casta allemand\n",
       " 2038               employer cdd seule\n",
       " 2489      seules promesses effectives\n",
       " 2709       alexcharlet seules phrases\n",
       " 2711      seules phrases susceptibles\n",
       " 2845    glaçante solitude photographe\n",
       " 3363            subiront seules âgées\n",
       " 3378          selon calculs exclusifs\n",
       " 3379       calculs exclusifs marianne\n",
       " 3425            affrontait seul poing\n",
       " 3426        dettinger affrontait seul\n",
       " 4160          exclusifs marianne gouv\n",
       " Name: Focus Values, dtype: object,\n",
       " 'Les Républicains': 849            sports concernant exclusion\n",
       " 858           information exclusive figaro\n",
       " 925         exclusivement première tranche\n",
       " 927             ciblée quasi exclusivement\n",
       " 929           quasi exclusivement première\n",
       " 1052                ami denistillinac seul\n",
       " 1054            denistillinac seul éditeur\n",
       " 1805                    isolé esseulé même\n",
       " 2204    spécifiques dérogations exclusives\n",
       " 2209             seuls statuts spécifiques\n",
       " 3244               exclusifs marianne gouv\n",
       " 3392            calculs exclusifs marianne\n",
       " 3393               selon calculs exclusifs\n",
       " 3526             saccagent véhicules seuls\n",
       " Name: Focus Values, dtype: object,\n",
       " 'Rassemblement National': 1090                   union droites exclu\n",
       " 1108              intégration échoué seule\n",
       " 1141                  province seul poupon\n",
       " 1549          information exclusive figaro\n",
       " 1839                       vante aider sdf\n",
       " 3451          renonçant austérité excluant\n",
       " 3521             saccagent véhicules seuls\n",
       " 3890                    isolé esseulé même\n",
       " 4688             dettinger affrontait seul\n",
       " 4690                 affrontait seul poing\n",
       " 4815             seuls statuts spécifiques\n",
       " 4817    spécifiques dérogations exclusives\n",
       " Name: Focus Values, dtype: object,\n",
       " 'EELV': 353              étranger isolé placé\n",
       " 358                   isolé placé gav\n",
       " 369             mineur étranger isolé\n",
       " 477       seules promesses effectives\n",
       " 811      frontalement seuls organisés\n",
       " 813       attaquer frontalement seuls\n",
       " 902         hurlions seules collectif\n",
       " 903            savait hurlions seules\n",
       " 905           seules collectif désert\n",
       " 1162    glaçante solitude photographe\n",
       " 1763            seul prostré qualifié\n",
       " 1812               employer cdd seule\n",
       " Name: Focus Values, dtype: object,\n",
       " 'Centre Droit': 232    chaleureuse malades seuls\n",
       " Name: Focus Values, dtype: object,\n",
       " 'Principaux médias': 604        seules collectif désert\n",
       " 606      hurlions seules collectif\n",
       " 608         savait hurlions seules\n",
       " 1028       exclusifs marianne gouv\n",
       " 1101       selon calculs exclusifs\n",
       " 1102    calculs exclusifs marianne\n",
       " 2262               isolé placé gav\n",
       " 2263          étranger isolé placé\n",
       " 2289         mineur étranger isolé\n",
       " Name: Focus Values, dtype: object}"
      ]
     },
     "execution_count": 14,
     "metadata": {},
     "output_type": "execute_result"
    }
   ],
   "source": [
    "e = {\"LREM\" : read_trigrams_exclusion(\"trigrams_lrem\"),\n",
    "     \"LFI\" : read_trigrams_exclusion(\"trigrams_lfi\"),\n",
    "    \"Les Républicains\" : read_trigrams_exclusion(\"trigrams_lr\"),\n",
    "    \"Rassemblement National\" : read_trigrams_exclusion(\"trigrams_rn\"),\n",
    "    \"EELV\" : read_trigrams_exclusion(\"trigrams_eelv\"),\n",
    "    \"Centre Droit\" : read_trigrams_exclusion(\"trigrams_centre\"),\n",
    "    \"Principaux médias\" : read_trigrams_exclusion(\"trigrams_mm\")}\n",
    "e\n",
    "#df = pd.DataFrame(a)\n",
    "#df.to_excel(\"trigrams_degradation.xlsx\", engine = \"xlsxwriter\")"
   ]
  },
  {
   "cell_type": "code",
   "execution_count": null,
   "metadata": {},
   "outputs": [],
   "source": []
  }
 ],
 "metadata": {
  "kernelspec": {
   "display_name": "Python 3",
   "language": "python",
   "name": "python3"
  },
  "language_info": {
   "codemirror_mode": {
    "name": "ipython",
    "version": 3
   },
   "file_extension": ".py",
   "mimetype": "text/x-python",
   "name": "python",
   "nbconvert_exporter": "python",
   "pygments_lexer": "ipython3",
   "version": "3.6.5"
  }
 },
 "nbformat": 4,
 "nbformat_minor": 2
}
