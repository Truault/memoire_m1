{
 "cells": [
  {
   "cell_type": "code",
   "execution_count": 1,
   "metadata": {},
   "outputs": [],
   "source": [
    "import pandas as pd\n",
    "import matplotlib.pyplot as plt\n",
    "import numpy as np"
   ]
  },
  {
   "cell_type": "code",
   "execution_count": 2,
   "metadata": {},
   "outputs": [],
   "source": [
    "##mots\n",
    "def read_words_fractures(file) :\n",
    "  words = pd.read_csv(file)\n",
    "  df = pd.DataFrame(words, columns = [\"Words\", \"Focus\"])\n",
    "  s = pd.Series(df[\"Words\"]).astype(str)\n",
    "  e_fractures= (s[s.str.contains(\"guilluy|Guilluy|multiculturalisme|campagne|périphérie|rural|périurbain|gentrification|cassures|fragmentation|opposition|métropole| ville|classes| oublié|déconne|extra-terrestre|privilège|territoires|métropolisation|ségrégation\")])\n",
    "\n",
    "#sort une série avec les mots contenus dans le fichier\n",
    "  return(e_fractures)"
   ]
  },
  {
   "cell_type": "code",
   "execution_count": 3,
   "metadata": {},
   "outputs": [],
   "source": [
    "a = {\"LREM\" : read_words_fractures(\"words_lrem\"), \n",
    "     \"LR\" : read_words_fractures(\"words_lr\"), \n",
    "     \"RN\" : read_words_fractures(\"words_rn\"),\n",
    "    \"LFI\" : read_words_fractures(\"words_lfi\"),\n",
    "    \"EELV\" : read_words_fractures(\"words_eelv\"),\n",
    "    \"centre-droit\" : read_words_fractures(\"words_centre\"),\n",
    "    \"socialistes\" : read_words_fractures(\"words_soc\"),\n",
    "    \"principaux médias\" : read_words_fractures(\"words_mm\")\n",
    "    }\n",
    "\n",
    "df = pd.DataFrame(a)\n",
    "df.to_latex(\"read_words_fractures.tex\")"
   ]
  },
  {
   "cell_type": "code",
   "execution_count": 4,
   "metadata": {},
   "outputs": [],
   "source": [
    "##bigrams\n",
    "def read_bigrams_fractures(file) :\n",
    "  words = pd.read_csv(file)\n",
    "  df = pd.DataFrame(words, columns = [\"Focus Values\", \"Focus\"])\n",
    "  s = pd.Series(df[\"Focus Values\"]).astype(str)\n",
    "  e_fractures= (s[s.str.contains(\"guilluy|Guilluy|multiculturalisme|campagne|périphérie|rural|périurbain|gentrification|cassures|fragmentation|opposition|métropole| ville|classes| oublié|déconne|extra-terrestre|privilège|territoires|métropolisation|ségrégation\")])\n",
    "\n",
    "#sort une série avec les mots contenus dans le fichier\n",
    "  return(e_fractures)"
   ]
  },
  {
   "cell_type": "code",
   "execution_count": 5,
   "metadata": {},
   "outputs": [],
   "source": [
    "e = {\"LREM\" : read_bigrams_fractures(\"bigrams_lrem\"),\n",
    "     \"LFI\" : read_bigrams_fractures(\"bigrams_lfi\"),\n",
    "    \"Les Républicains\" : read_bigrams_fractures(\"bigrams_lr\"),\n",
    "    \"Rassemblement National\" : read_bigrams_fractures(\"bigrams_rn\"),\n",
    "    \"EELV\" : read_bigrams_fractures(\"bigrams_eelv\"),\n",
    "    \"Centre Droit\" : read_bigrams_fractures(\"bigrams_centre\"),\n",
    "     \"Socialistes\" : read_bigrams_fractures(\"bigrams_soc\"),\n",
    "    \"Principaux médias\" : read_bigrams_fractures(\"bigrams_mm\")}\n",
    "\n",
    "df = pd.DataFrame(e)\n",
    "df.to_latex(\"read_bigrams_fractures.tex\")"
   ]
  },
  {
   "cell_type": "code",
   "execution_count": 6,
   "metadata": {},
   "outputs": [],
   "source": [
    "##trigrams\n",
    "def read_trigrams_fractures(file) :\n",
    "  words = pd.read_csv(file)\n",
    "  df = pd.DataFrame(words, columns = [\"Focus Values\", \"Focus\"])\n",
    "  s = pd.Series(df[\"Focus Values\"]).astype(str)\n",
    "  e_fractures= (s[s.str.contains(\"guilluy|Guilluy|multiculturalisme|campagne|périphérie|rural|périurbain|gentrification|cassures|fragmentation|opposition|métropole| ville|classes| oublié|déconne|extra-terrestre|privilège|territoires|métropolisation|ségrégation\")])\n",
    "\n",
    "#sort une série avec les mots contenus dans le fichier\n",
    "  return(e_fractures)"
   ]
  },
  {
   "cell_type": "code",
   "execution_count": 7,
   "metadata": {},
   "outputs": [],
   "source": [
    "e = {\"LREM\" : read_trigrams_fractures(\"trigrams_lrem\"),\n",
    "     \"LFI\" : read_trigrams_fractures(\"trigrams_lfi\"),\n",
    "    \"Les Républicains\" : read_trigrams_fractures(\"trigrams_lr\"),\n",
    "    \"Rassemblement National\" : read_trigrams_fractures(\"trigrams_rn\"),\n",
    "    \"EELV\" : read_trigrams_fractures(\"trigrams_eelv\"),\n",
    "    \"Centre Droit\" : read_trigrams_fractures(\"trigrams_centre\"),\n",
    "\"Principaux médias\" : read_trigrams_fractures(\"trigrams_mm\")}\n",
    "\n",
    "df = pd.DataFrame(e)\n",
    "df.to_latex(\"read_trigrams_fractures.tex\")"
   ]
  },
  {
   "cell_type": "code",
   "execution_count": null,
   "metadata": {},
   "outputs": [],
   "source": []
  }
 ],
 "metadata": {
  "kernelspec": {
   "display_name": "Python 3",
   "language": "python",
   "name": "python3"
  },
  "language_info": {
   "codemirror_mode": {
    "name": "ipython",
    "version": 3
   },
   "file_extension": ".py",
   "mimetype": "text/x-python",
   "name": "python",
   "nbconvert_exporter": "python",
   "pygments_lexer": "ipython3",
   "version": "3.7.4"
  }
 },
 "nbformat": 4,
 "nbformat_minor": 4
}
