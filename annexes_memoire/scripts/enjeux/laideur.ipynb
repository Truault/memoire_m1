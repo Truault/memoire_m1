{
 "cells": [
  {
   "cell_type": "code",
   "execution_count": 1,
   "metadata": {},
   "outputs": [],
   "source": [
    "import pandas as pd\n",
    "import matplotlib.pyplot as plt\n",
    "import numpy as np"
   ]
  },
  {
   "cell_type": "code",
   "execution_count": 2,
   "metadata": {},
   "outputs": [],
   "source": [
    "def read_words_laideur(file) :\n",
    "  words = pd.read_csv(file)\n",
    "  df = pd.DataFrame(words, columns = [\"Words\", \"Focus\"])\n",
    "  s = pd.Series(df[\"Words\"]).astype(str)\n",
    "  e_laideur = s[s.str.contains(\"beauté|tourisme|consommation|esthétique|culture|plaisir\")]\n",
    "  return(e_laideur)"
   ]
  },
  {
   "cell_type": "code",
   "execution_count": 3,
   "metadata": {},
   "outputs": [],
   "source": [
    "d = {\"LREM\" : read_words_laideur(\"words_lrem\"), \n",
    "     \"LR\" : read_words_laideur(\"words_lr\"), \n",
    "     \"RN\" : read_words_laideur(\"words_rn\"),\n",
    "    \"LFI\" : read_words_laideur(\"words_lfi\"),\n",
    "    \"EELV\" : read_words_laideur(\"words_eelv\"),\n",
    "    \"centre-droit\" : read_words_laideur(\"words_centre\"),\n",
    "    \"socialistes\" : read_words_laideur(\"words_soc\"),\n",
    "    \"principaux médias\" : read_words_laideur(\"words_mm\")\n",
    "    }\n",
    "df = pd.DataFrame(d)\n",
    "df.to_latex(\"read_words_laideur.tex\")"
   ]
  },
  {
   "cell_type": "code",
   "execution_count": 4,
   "metadata": {},
   "outputs": [],
   "source": [
    "def read_bigrams_laideur(file) :\n",
    "  words = pd.read_csv(file)\n",
    "  df = pd.DataFrame(words, columns = [\"Focus Values\", \"Focus\"])\n",
    "  s = pd.Series(df[\"Focus Values\"]).astype(str)\n",
    "  e_laideur = s[s.str.contains(\"beauté|tourisme|consommation|esthétique|culture|plaisir\")]\n",
    "  return(e_laideur)"
   ]
  },
  {
   "cell_type": "code",
   "execution_count": 7,
   "metadata": {},
   "outputs": [],
   "source": [
    "e = {\"LREM\" : read_bigrams_laideur(\"bigrams_lrem\"),\n",
    "     \"LFI\" : read_bigrams_laideur(\"bigrams_lfi\"),\n",
    "    \"Les Républicains\" : read_bigrams_laideur(\"bigrams_lr\"),\n",
    "    \"Rassemblement National\" : read_bigrams_laideur(\"bigrams_rn\"),\n",
    "    \"EELV\" : read_bigrams_laideur(\"bigrams_eelv\"),\n",
    "    \"Centre Droit\" : read_bigrams_laideur(\"bigrams_centre\"),\n",
    "     \"Socialistes\" : read_bigrams_laideur(\"bigrams_soc\"),\n",
    "    \"Principaux médias\" : read_bigrams_laideur(\"bigrams_mm\")}\n",
    "\n",
    "df = pd.DataFrame(e)\n",
    "df.to_latex(\"read_bigrams_laideur.tex\")"
   ]
  },
  {
   "cell_type": "code",
   "execution_count": 8,
   "metadata": {},
   "outputs": [],
   "source": [
    "def read_trigrams_laideur(file) :\n",
    "  words = pd.read_csv(file)\n",
    "  df = pd.DataFrame(words, columns = [\"Focus Values\", \"Focus\"])\n",
    "  s = pd.Series(df[\"Focus Values\"]).astype(str)\n",
    "  e_laideur = s[s.str.contains(\"beauté|tourisme|consommation|esthétique|culture|plaisir\")]\n",
    "  return(e_laideur)"
   ]
  },
  {
   "cell_type": "code",
   "execution_count": 9,
   "metadata": {},
   "outputs": [],
   "source": [
    "e = {\"LREM\" : read_trigrams_laideur(\"trigrams_lrem\"),\n",
    "     \"LFI\" : read_trigrams_laideur(\"trigrams_lfi\"),\n",
    "    \"Les Républicains\" : read_trigrams_laideur(\"trigrams_lr\"),\n",
    "    \"Rassemblement National\" : read_trigrams_laideur(\"trigrams_rn\"),\n",
    "    \"EELV\" : read_trigrams_laideur(\"trigrams_eelv\"),\n",
    "    \"Centre Droit\" : read_trigrams_laideur(\"trigrams_centre\"),\n",
    "    \"Principaux médias\" : read_trigrams_laideur(\"trigrams_mm\")}\n",
    "\n",
    "df = pd.DataFrame(e)\n",
    "df.to_latex(\"read_trigrams_laideur.tex\")"
   ]
  },
  {
   "cell_type": "code",
   "execution_count": null,
   "metadata": {},
   "outputs": [],
   "source": []
  }
 ],
 "metadata": {
  "kernelspec": {
   "display_name": "Python 3",
   "language": "python",
   "name": "python3"
  },
  "language_info": {
   "codemirror_mode": {
    "name": "ipython",
    "version": 3
   },
   "file_extension": ".py",
   "mimetype": "text/x-python",
   "name": "python",
   "nbconvert_exporter": "python",
   "pygments_lexer": "ipython3",
   "version": "3.7.4"
  }
 },
 "nbformat": 4,
 "nbformat_minor": 4
}
