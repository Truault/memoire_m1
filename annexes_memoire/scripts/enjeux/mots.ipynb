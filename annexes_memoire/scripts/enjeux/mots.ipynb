{
 "cells": [
  {
   "cell_type": "code",
   "execution_count": 3,
   "metadata": {},
   "outputs": [],
   "source": [
    "import pandas as pd\n",
    "import matplotlib.pyplot as plt\n",
    "import numpy as np"
   ]
  },
  {
   "cell_type": "code",
   "execution_count": null,
   "metadata": {},
   "outputs": [],
   "source": []
  },
  {
   "cell_type": "code",
   "execution_count": 6,
   "metadata": {},
   "outputs": [],
   "source": []
  },
  {
   "cell_type": "code",
   "execution_count": 8,
   "metadata": {},
   "outputs": [
    {
     "data": {
      "text/plain": [
       "{'LREM': 272     syndicalisme\n",
       " 436           grèves\n",
       " 455       démocratie\n",
       " 1805    militantisme\n",
       " 3152           grève\n",
       " 3794     démocraties\n",
       " 3827         slogans\n",
       " Name: Words, dtype: object,\n",
       " 'LR': 4977    crèvent\n",
       " Name: Words, dtype: object,\n",
       " 'RN': 2262           crève\n",
       " 2514    militantisme\n",
       " 2824         crèvent\n",
       " 3893         slogans\n",
       " Name: Words, dtype: object,\n",
       " 'LFI': 102     fiersdelagrève\n",
       " 497      grèvegénérale\n",
       " 1314             trève\n",
       " 1563            slogan\n",
       " 2033             crève\n",
       " 3071        démocratie\n",
       " 3149      syndicalisme\n",
       " 4005           crèvent\n",
       " 4975       démocraties\n",
       " 5304           slogans\n",
       " Name: Words, dtype: object,\n",
       " 'EELV': 237         grève\n",
       " 713    démocratie\n",
       " Name: Words, dtype: object,\n",
       " 'centre-droit': 88      grève\n",
       " 527    grèves\n",
       " Name: Words, dtype: object,\n",
       " 'socialistes': 71           grève\n",
       " 429     démocratie\n",
       " 1055        grèves\n",
       " Name: Words, dtype: object,\n",
       " 'principaux médias': 23            grève\n",
       " 389          grèves\n",
       " 1648         slogan\n",
       " 3182    démocraties\n",
       " Name: Words, dtype: object}"
      ]
     },
     "execution_count": 8,
     "metadata": {},
     "output_type": "execute_result"
    }
   ],
   "source": []
  },
  {
   "cell_type": "code",
   "execution_count": null,
   "metadata": {},
   "outputs": [],
   "source": []
  },
  {
   "cell_type": "code",
   "execution_count": 2,
   "metadata": {},
   "outputs": [],
   "source": [
    "def read_words_violence(file) :\n",
    "  words = pd.read_csv(file)\n",
    "  df = pd.DataFrame(words, columns = [\"Words\", \"Focus\"])\n",
    "  mots = df.loc[0:100]\n",
    "  s = pd.Series(df[\"Words\"]).astype(str)\n",
    "  e_violence = (s[s.str.contains(\"locage|iolence|éage|accage|adical|errorism|ttentat|ttaque|gress|git|ntrusi|gitat|ntisémit|uif|uive|oyou|élinquan\")])\n",
    "  return(e_violence)"
   ]
  },
  {
   "cell_type": "code",
   "execution_count": 3,
   "metadata": {},
   "outputs": [],
   "source": [
    "a = {\"LREM\" : read_words_violence(\"words_lrem\"), \n",
    "     \"LR\" : read_words_violence(\"words_lr\"), \n",
    "     \"RN\" : read_words_violence(\"words_rn\"),\n",
    "    \"LFI\" : read_words_violence(\"words_lfi\"),\n",
    "    \"EELV\" : read_words_violence(\"words_eelv\"),\n",
    "    \"centre-droit\" : read_words_violence(\"words_centre\"),\n",
    "    \"socialistes\" : read_words_violence(\"words_soc\"),\n",
    "    \"principaux médias\" : read_words_violence(\"words_mm\")\n",
    "    }\n",
    "df = pd.DataFrame(a)\n",
    "\n"
   ]
  },
  {
   "cell_type": "code",
   "execution_count": 4,
   "metadata": {},
   "outputs": [],
   "source": [
    "\n",
    "df.to_excel(\"mv.xlsx\", engine = \"xlsxwriter\")"
   ]
  },
  {
   "cell_type": "code",
   "execution_count": 5,
   "metadata": {},
   "outputs": [],
   "source": [
    "def read_words_ecolo(file) :\n",
    "  words = pd.read_csv(file)\n",
    "  df = pd.DataFrame(words, columns = [\"Words\", \"Focus\"])\n",
    "  mots = df.loc[0:100]\n",
    "  s = pd.Series(df[\"Words\"]).astype(str)\n",
    "  e_ecolo = (s[s.str.contains(\"ustral|cop25|COP25|ncendie|feu|brûle\")])\n",
    "  return(e_ecolo)"
   ]
  },
  {
   "cell_type": "code",
   "execution_count": 6,
   "metadata": {},
   "outputs": [],
   "source": [
    "a = {\"LREM\" : read_words_ecolo(\"words_lrem\"), \n",
    "     \"LR\" : read_words_ecolo(\"words_lr\"), \n",
    "     \"RN\" : read_words_ecolo(\"words_rn\"),\n",
    "    \"LFI\" : read_words_ecolo(\"words_lfi\"),\n",
    "    \"EELV\" : read_words_ecolo(\"words_eelv\"),\n",
    "    \"centre-droit\" : read_words_ecolo(\"words_centre\"),\n",
    "    \"socialistes\" : read_words_ecolo(\"words_soc\"),\n",
    "    \"principaux médias\" : read_words_ecolo(\"words_mm\")\n",
    "    }\n",
    "\n",
    "df = pd.DataFrame(a)\n"
   ]
  },
  {
   "cell_type": "code",
   "execution_count": null,
   "metadata": {},
   "outputs": [],
   "source": []
  },
  {
   "cell_type": "code",
   "execution_count": 7,
   "metadata": {},
   "outputs": [],
   "source": [
    "df.to_excel(\"m_ecolo.xlsx\", engine = \"xlsxwriter\")"
   ]
  },
  {
   "cell_type": "code",
   "execution_count": 8,
   "metadata": {},
   "outputs": [],
   "source": [
    "def read_words_nettoyer(file) :\n",
    "  words = pd.read_csv(file)\n",
    "  df = pd.DataFrame(words, columns = [\"Words\", \"Focus\"])\n",
    "  mots = df.loc[0:100]\n",
    "  s = pd.Series(df[\"Words\"]).astype(str)\n",
    "  e_nettoyer = (s[s.str.contains(\"astique|échet|ettoy\")])\n",
    "  return(e_nettoyer)"
   ]
  },
  {
   "cell_type": "code",
   "execution_count": 9,
   "metadata": {},
   "outputs": [],
   "source": [
    "b = {\"LREM\" : read_words_nettoyer(\"words_lrem\"), \n",
    "     \"LR\" : read_words_nettoyer(\"words_lr\"), \n",
    "     \"RN\" : read_words_nettoyer(\"words_rn\"),\n",
    "    \"LFI\" : read_words_nettoyer(\"words_lfi\"),\n",
    "    \"EELV\" : read_words_nettoyer(\"words_eelv\"),\n",
    "    \"centre-droit\" : read_words_nettoyer(\"words_centre\"),\n",
    "    \"socialistes\" : read_words_nettoyer(\"words_soc\"),\n",
    "    \"principaux médias\" : read_words_nettoyer(\"words_mm\")\n",
    "    }\n",
    "\n",
    "df = pd.DataFrame(b)"
   ]
  },
  {
   "cell_type": "code",
   "execution_count": 10,
   "metadata": {},
   "outputs": [],
   "source": [
    "df.to_excel(\"m_nettoyer.xlsx\", engine = \"xlsxwriter\")"
   ]
  },
  {
   "cell_type": "code",
   "execution_count": 11,
   "metadata": {},
   "outputs": [],
   "source": [
    "def read_words_patrimoine(file) :\n",
    "  words = pd.read_csv(file)\n",
    "  df = pd.DataFrame(words, columns = [\"Words\", \"Focus\"])\n",
    "  mots = df.loc[0:100]\n",
    "  s = pd.Series(df[\"Words\"]).astype(str)\n",
    "  e_patrimoine = (s[s.str.contains(\"amil|atrimo\")])\n",
    "  return(e_patrimoine)"
   ]
  },
  {
   "cell_type": "code",
   "execution_count": 12,
   "metadata": {},
   "outputs": [],
   "source": [
    "d = {\"LREM\" : read_words_patrimoine(\"words_lrem\"), \n",
    "     \"LR\" : read_words_patrimoine(\"words_lr\"), \n",
    "     \"RN\" : read_words_patrimoine(\"words_rn\"),\n",
    "    \"LFI\" : read_words_patrimoine(\"words_lfi\"),\n",
    "    \"EELV\" : read_words_patrimoine(\"words_eelv\"),\n",
    "    \"centre-droit\" : read_words_patrimoine(\"words_centre\"),\n",
    "    \"socialistes\" : read_words_patrimoine(\"words_soc\"),\n",
    "    \"principaux médias\" : read_words_patrimoine(\"words_mm\")\n",
    "    }\n",
    "\n",
    "df = pd.DataFrame(d)"
   ]
  },
  {
   "cell_type": "code",
   "execution_count": 13,
   "metadata": {},
   "outputs": [],
   "source": [
    "df.to_excel(\"m_patrimoine.xlsx\", engine = \"xlsxwriter\")"
   ]
  },
  {
   "cell_type": "code",
   "execution_count": 14,
   "metadata": {},
   "outputs": [],
   "source": [
    "def read_words_occuper(file) :\n",
    "  words = pd.read_csv(file)\n",
    "  df = pd.DataFrame(words, columns = [\"Words\", \"Focus\"])\n",
    "  mots = df.loc[0:100]\n",
    "  s = pd.Series(df[\"Words\"]).astype(str)\n",
    "  e_occuper= (s[s.str.contains(\"utte|ontest|ngage|vanc|onopol|ajorit|inorit|omplo\")])\n",
    "  return(e_occuper)"
   ]
  },
  {
   "cell_type": "code",
   "execution_count": 17,
   "metadata": {},
   "outputs": [],
   "source": [
    "e = {\"LREM\" : read_words_occuper(\"words_lrem\"), \n",
    "     \"LR\" : read_words_occuper(\"words_lr\"), \n",
    "     \"RN\" : read_words_occuper(\"words_rn\"),\n",
    "    \"LFI\" : read_words_occuper(\"words_lfi\"),\n",
    "    \"EELV\" : read_words_occuper(\"words_eelv\"),\n",
    "    \"centre-droit\" : read_words_occuper(\"words_centre\"),\n",
    "    \"socialistes\" : read_words_occuper(\"words_soc\"),\n",
    "    \"principaux médias\" : read_words_occuper(\"words_mm\")\n",
    "    }\n",
    "\n",
    "df2 = pd.DataFrame(e)"
   ]
  },
  {
   "cell_type": "code",
   "execution_count": 18,
   "metadata": {},
   "outputs": [],
   "source": [
    "df2.to_excel(\"m_occuper.xlsx\", engine = \"xlsxwriter\")"
   ]
  },
  {
   "cell_type": "code",
   "execution_count": 19,
   "metadata": {},
   "outputs": [],
   "source": [
    "def read_words_union(file) :\n",
    "  words = pd.read_csv(file)\n",
    "  df = pd.DataFrame(words, columns = [\"Words\", \"Focus\"])\n",
    "  mots = df.loc[0:100]\n",
    "  s = pd.Series(df[\"Words\"]).astype(str)\n",
    "  e_union= (s[s.str.contains(\"semble|ommu|racture|ragment\")])\n",
    "  return(e_union)"
   ]
  },
  {
   "cell_type": "code",
   "execution_count": 20,
   "metadata": {},
   "outputs": [],
   "source": [
    "e = {\"LREM\" : read_words_union(\"words_lrem\"), \n",
    "     \"LR\" :  read_words_union(\"words_lr\"), \n",
    "     \"RN\" :  read_words_union(\"words_rn\"),\n",
    "    \"LFI\" : read_words_union(\"words_lfi\"),\n",
    "    \"EELV\" : read_words_union(\"words_eelv\"),\n",
    "    \"centre-droit\" : read_words_union(\"words_centre\"),\n",
    "    \"socialistes\" : read_words_union(\"words_soc\"),\n",
    "    \"principaux médias\" : read_words_union(\"words_mm\")\n",
    "    }\n",
    "df = pd.DataFrame(e)"
   ]
  },
  {
   "cell_type": "code",
   "execution_count": 21,
   "metadata": {},
   "outputs": [],
   "source": [
    "df.to_excel(\"m_union.xlsx\", engine = \"xlsxwriter\")"
   ]
  },
  {
   "cell_type": "code",
   "execution_count": 22,
   "metadata": {},
   "outputs": [],
   "source": [
    "def read_words_ref(file) :\n",
    "  words = pd.read_csv(file)\n",
    "  df = pd.DataFrame(words, columns = [\"Words\", \"Focus\"])\n",
    "  mots = df.loc[0:100]\n",
    "  s = pd.Series(df[\"Words\"]).astype(str)\n",
    "  e_ref= (s[s.str.contains(\"semblée|énat|ommémoration|harlie|ebdo\")])\n",
    "  return(e_ref)"
   ]
  },
  {
   "cell_type": "code",
   "execution_count": 23,
   "metadata": {},
   "outputs": [],
   "source": [
    "e = {\"LREM\" : read_words_ref(\"words_lrem\"), \n",
    "     \"LR\" :  read_words_ref(\"words_lr\"), \n",
    "     \"RN\" :  read_words_ref(\"words_rn\"),\n",
    "    \"LFI\" : read_words_ref(\"words_lfi\"),\n",
    "    \"EELV\" : read_words_ref(\"words_eelv\"),\n",
    "    \"centre-droit\" : read_words_ref(\"words_centre\"),\n",
    "    \"socialistes\" : read_words_ref(\"words_soc\"),\n",
    "    \"principaux médias\" : read_words_ref(\"words_mm\")\n",
    "    }\n",
    "df = pd.DataFrame(e)"
   ]
  },
  {
   "cell_type": "code",
   "execution_count": 24,
   "metadata": {},
   "outputs": [],
   "source": [
    "df.to_excel(\"word_ref.xlsx\", engine = \"xlsxwriter\")"
   ]
  },
  {
   "cell_type": "code",
   "execution_count": null,
   "metadata": {},
   "outputs": [],
   "source": []
  }
 ],
 "metadata": {
  "kernelspec": {
   "display_name": "Python 3",
   "language": "python",
   "name": "python3"
  },
  "language_info": {
   "codemirror_mode": {
    "name": "ipython",
    "version": 3
   },
   "file_extension": ".py",
   "mimetype": "text/x-python",
   "name": "python",
   "nbconvert_exporter": "python",
   "pygments_lexer": "ipython3",
   "version": "3.7.4"
  }
 },
 "nbformat": 4,
 "nbformat_minor": 4
}
