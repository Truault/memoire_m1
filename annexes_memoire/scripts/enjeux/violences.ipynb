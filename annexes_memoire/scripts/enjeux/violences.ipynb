{
 "cells": [
  {
   "cell_type": "code",
   "execution_count": 5,
   "metadata": {},
   "outputs": [],
   "source": [
    "import pandas as pd\n",
    "import matplotlib.pyplot as plt\n",
    "import numpy as np"
   ]
  },
  {
   "cell_type": "code",
   "execution_count": null,
   "metadata": {},
   "outputs": [],
   "source": [
    "\n"
   ]
  },
  {
   "cell_type": "code",
   "execution_count": null,
   "metadata": {},
   "outputs": [],
   "source": []
  },
  {
   "cell_type": "code",
   "execution_count": null,
   "metadata": {},
   "outputs": [],
   "source": []
  },
  {
   "cell_type": "code",
   "execution_count": null,
   "metadata": {},
   "outputs": [],
   "source": [
    "\n"
   ]
  },
  {
   "cell_type": "code",
   "execution_count": null,
   "metadata": {},
   "outputs": [],
   "source": [
    "\n"
   ]
  },
  {
   "cell_type": "code",
   "execution_count": null,
   "metadata": {},
   "outputs": [],
   "source": []
  },
  {
   "cell_type": "code",
   "execution_count": 6,
   "metadata": {},
   "outputs": [],
   "source": [
    "##mots\n",
    "def read_words_violence(file) :\n",
    "  words = pd.read_csv(file)\n",
    "  df = pd.DataFrame(words, columns = [\"Words\", \"Focus\"])\n",
    "  mots = df.loc[0:100]\n",
    "  s = pd.Series(df[\"Words\"]).astype(str)\n",
    "  e_violence= (s[s.str.contains(\"violence|violences par arme à feu aux états-unis |la reproduction |violence structurelle |violences urbaines |palgrave macmillan |violence politique |terreur|violences gynécologiques et obstétricales |violence policière |violence contre les femmes |violence féminine |violence conjugale|torture|soumission librement consentie |racisme|insulte |sadisme |nonviolence |maltraitance |incivilité |harcèlement moral |homophobie |déviance |force| délinquance |châtiment corporel | crime |colère|agressivité |aliénation |châtiment corporel |colère |crime |délinquance |déviance |force (philosophie) |harcèlement moral |homophobie |incivilité |insulte |maltraitance |monopole de la violence |non-violence |racisme |sadisme |soumission librement consentie |torture |violence conjugale |violence contre les femmes |violence féminine |violences gynécologiques et obstétricales |violence policière |violence politique |violence structurelle |violences urbaines |violences par arme à feu|la reproduction|arme à feu |violence|tuerie milieu scolaire |trafic armes| reproduction sociale |pouvoir symbolique |violence symbolique |discrimination |exclusion sociale |racisme état |émeute |casseur|bande criminelle |incivilités |gangs de rue|terrorisme |résistance (politique) |bagarre parlementaires |parias urbains| ghetto|banlieues|délinquance juvénile |marxisme |marxiens |gauche|extrême gauche |socialisme |social-démocratie |communisme |classe |comité de salut public |robespierrisme |génocide franco-français |mouvements sociaux |violences femmes |libertaire |maltraitance des enfants|discrimination sexuelle |esclavage sexuel|harcèlement sexuel |lesbophobie |misogynie |mutilations génitales féminines |sexisme |viol |violences sexuelles|masculinisme |médiation |perversion narcissique |traque furtive |violence familiale |culture du viol |immolation feu |crime contre humanité |torture médicale |apartheid|crime apartheid |couleur peau humaine |darwinisme social |eugénisme |francophobie |honte noire |injure raciste |non-mixité |ostracisme |polygénisme |racialisme |racisme antiblanc |racisme en afrique |racisme en france |ségrégation raciale |xénophobie |zoo humain |antiracisme |libéralisme |égalité devant la loi |fraternité |respect |ouverture |humanisme |pensée complexe |diversité culturelle |juron |blasphème |sacrilège |sacres |morale |éthique |interactionnisme symbolique |religions et non violence |bouddhisme et non violence |pacifisme |objection de conscience |antimilitarisme |réfractaire armée |résistance non violente |désobéissance civile |communication non violente |conflit non violent |action directe |légitime défense |maltraitance des adultes |maltraitance personnes handicapées |maltraitance personnes âgées |prévention spécialisée |maintien ordre |civilité |étiquette|politesse |galanterie |école paix |harcèlement psychologique |précarité |vulnérabilité psychologique |solidarité (notion) |travail (économie) |santé au travail |violences sexuelles au travail |dépénalisation homosexualité |biphobie |panphobie |transphobie |hétérosexisme |hétéronormativité |thérapie de conversion |homosexualité |bisexualité |pansexualité|viol correctif|homophobie|anormalité |conformisme |contreculture |norme sociale |stigmatisation |résistance|outsiders|justice |police |corruption |observatoire national de la délinquance |prison |châtiment|violence psychologique |criminalité|prison en france |prison aux états-unis |délit pénal |infraction |criminalité financière |crime organisé |cybercriminalité |colère |fureur |haine |tempérance\")])\n",
    "#sort une série avec les mots contenus dans le fichier\n",
    "  return(e_violence)"
   ]
  },
  {
   "cell_type": "code",
   "execution_count": 7,
   "metadata": {},
   "outputs": [],
   "source": [
    "\n",
    "d = {\"LREM\" : read_words_violence(\"words_lrem\"), \n",
    "     \"LR\" : read_words_violence(\"words_lr\"), \n",
    "     \"RN\" : read_words_violence(\"words_rn\"),\n",
    "    \"LFI\" : read_words_violence(\"words_lfi\"),\n",
    "    \"EELV\" : read_words_violence(\"words_eelv\"),\n",
    "    \"centre-droit\" : read_words_violence(\"words_centre\"),\n",
    "    \"socialistes\" : read_words_violence(\"words_soc\"),\n",
    "    \"principaux médias\" : read_words_violence(\"words_mm\")\n",
    "    }\n",
    "\n",
    "df = pd.DataFrame(d)\n",
    "df.to_latex(\"read_words_violence.tex\")"
   ]
  },
  {
   "cell_type": "code",
   "execution_count": 8,
   "metadata": {},
   "outputs": [],
   "source": [
    "##bigrams\n",
    "def read_bigrams_violence(file) :\n",
    "  words = pd.read_csv(file)\n",
    "  df = pd.DataFrame(words, columns = [\"Focus Values\", \"Focus\"])\n",
    "  mots = df.loc[0:100]\n",
    "  s = pd.Series(df[\"Focus Values\"]).astype(str)\n",
    "  e_violence= (s[s.str.contains(\"violence|violences par arme à feu aux états-unis |la reproduction |violence structurelle |violences urbaines |palgrave macmillan |violence politique |terreur|violences gynécologiques et obstétricales |violence policière |violence contre les femmes |violence féminine |violence conjugale|torture|soumission librement consentie |racisme|insulte |sadisme |nonviolence |maltraitance |incivilité |harcèlement moral |homophobie |déviance |force| délinquance |châtiment corporel | crime |colère|agressivité |aliénation |châtiment corporel |colère |crime |délinquance |déviance |force (philosophie) |harcèlement moral |homophobie |incivilité |insulte |maltraitance |monopole de la violence |non-violence |racisme |sadisme |soumission librement consentie |torture |violence conjugale |violence contre les femmes |violence féminine |violences gynécologiques et obstétricales |violence policière |violence politique |violence structurelle |violences urbaines |violences par arme à feu|la reproduction|arme à feu |violence|tuerie milieu scolaire |trafic armes| reproduction sociale |pouvoir symbolique |violence symbolique |discrimination |exclusion sociale |racisme état |émeute |casseur|bande criminelle |incivilités |gangs de rue|terrorisme |résistance (politique) |bagarre parlementaires |parias urbains| ghetto|banlieues|délinquance juvénile |marxisme |marxiens |gauche|extrême gauche |socialisme |social-démocratie |communisme |classe |comité de salut public |robespierrisme |génocide franco-français |mouvements sociaux |violences femmes |libertaire |maltraitance des enfants|discrimination sexuelle |esclavage sexuel|harcèlement sexuel |lesbophobie |misogynie |mutilations génitales féminines |sexisme |viol |violences sexuelles|masculinisme |médiation |perversion narcissique |traque furtive |violence familiale |culture du viol |immolation feu |crime contre humanité |torture médicale |apartheid|crime apartheid |couleur peau humaine |darwinisme social |eugénisme |francophobie |honte noire |injure raciste |non-mixité |ostracisme |polygénisme |racialisme |racisme antiblanc |racisme en afrique |racisme en france |ségrégation raciale |xénophobie |zoo humain |antiracisme |libéralisme |égalité devant la loi |fraternité |respect |ouverture |humanisme |pensée complexe |diversité culturelle |juron |blasphème |sacrilège |sacres |morale |éthique |interactionnisme symbolique |religions et non violence |bouddhisme et non violence |pacifisme |objection de conscience |antimilitarisme |réfractaire armée |résistance non violente |désobéissance civile |communication non violente |conflit non violent |action directe |légitime défense |maltraitance des adultes |maltraitance personnes handicapées |maltraitance personnes âgées |prévention spécialisée |maintien ordre |civilité |étiquette|politesse |galanterie |école paix |harcèlement psychologique |précarité |vulnérabilité psychologique |solidarité (notion) |travail (économie) |santé au travail |violences sexuelles au travail |dépénalisation homosexualité |biphobie |panphobie |transphobie |hétérosexisme |hétéronormativité |thérapie de conversion |homosexualité |bisexualité |pansexualité|viol correctif|homophobie|anormalité |conformisme |contreculture |norme sociale |stigmatisation |résistance|outsiders|justice |police |corruption |observatoire national de la délinquance |prison |châtiment|violence psychologique |criminalité|prison en france |prison aux états-unis |délit pénal |infraction |criminalité financière |crime organisé |cybercriminalité |colère |fureur |haine |tempérance\")])\n",
    "#sort une série avec les mots contenus dans le fichier\n",
    "  return(e_violence)"
   ]
  },
  {
   "cell_type": "code",
   "execution_count": 9,
   "metadata": {},
   "outputs": [],
   "source": [
    "e = {\"LREM\" : read_bigrams_violence(\"bigrams_lrem\"),\n",
    "     \"LFI\" : read_bigrams_violence(\"bigrams_lfi\"),\n",
    "    \"Les Républicains\" : read_bigrams_violence(\"bigrams_lr\"),\n",
    "    \"Rassemblement National\" : read_bigrams_violence(\"bigrams_rn\"),\n",
    "    \"EELV\" : read_bigrams_violence(\"bigrams_eelv\"),\n",
    "    \"Centre Droit\" : read_bigrams_violence(\"bigrams_centre\"),\n",
    "    \"Principaux médias\" : read_bigrams_violence(\"bigrams_mm\"),\n",
    "    \"Support socialiste\" : read_bigrams_violence(\"bigrams_soc\")}\n",
    "df = pd.DataFrame(e)\n",
    "df.to_latex(\"violence_bigrams.tex\")"
   ]
  },
  {
   "cell_type": "code",
   "execution_count": 10,
   "metadata": {},
   "outputs": [],
   "source": [
    "##trigrams\n",
    "def read_trigrams_violence(file) :\n",
    "  words = pd.read_csv(file)\n",
    "  df = pd.DataFrame(words, columns = [\"Focus Values\", \"Focus\"])\n",
    "  mots = df.loc[0:100]\n",
    "  s = pd.Series(df[\"Focus Values\"]).astype(str)\n",
    "  e_violence= (s[s.str.contains(\"violence|violences par arme à feu aux états-unis |la reproduction |violence structurelle |violences urbaines |palgrave macmillan |violence politique |terreur|violences gynécologiques et obstétricales |violence policière |violence contre les femmes |violence féminine |violence conjugale|torture|soumission librement consentie |racisme|insulte |sadisme |nonviolence |maltraitance |incivilité |harcèlement moral |homophobie |déviance |force| délinquance |châtiment corporel | crime |colère|agressivité |aliénation |châtiment corporel |colère |crime |délinquance |déviance |force (philosophie) |harcèlement moral |homophobie |incivilité |insulte |maltraitance |monopole de la violence |non-violence |racisme |sadisme |soumission librement consentie |torture |violence conjugale |violence contre les femmes |violence féminine |violences gynécologiques et obstétricales |violence policière |violence politique |violence structurelle |violences urbaines |violences par arme à feu|la reproduction|arme à feu |violence|tuerie milieu scolaire |trafic armes| reproduction sociale |pouvoir symbolique |violence symbolique |discrimination |exclusion sociale |racisme état |émeute |casseur|bande criminelle |incivilités |gangs de rue|terrorisme |résistance (politique) |bagarre parlementaires |parias urbains| ghetto|banlieues|délinquance juvénile |marxisme |marxiens |gauche|extrême gauche |socialisme |social-démocratie |communisme |classe |comité de salut public |robespierrisme |génocide franco-français |mouvements sociaux |violences femmes |libertaire |maltraitance des enfants|discrimination sexuelle |esclavage sexuel|harcèlement sexuel |lesbophobie |misogynie |mutilations génitales féminines |sexisme |viol |violences sexuelles|masculinisme |médiation |perversion narcissique |traque furtive |violence familiale |culture du viol |immolation feu |crime contre humanité |torture médicale |apartheid|crime apartheid |couleur peau humaine |darwinisme social |eugénisme |francophobie |honte noire |injure raciste |non-mixité |ostracisme |polygénisme |racialisme |racisme antiblanc |racisme en afrique |racisme en france |ségrégation raciale |xénophobie |zoo humain |antiracisme |libéralisme |égalité devant la loi |fraternité |respect |ouverture |humanisme |pensée complexe |diversité culturelle |juron |blasphème |sacrilège |sacres |morale |éthique |interactionnisme symbolique |religions et non violence |bouddhisme et non violence |pacifisme |objection de conscience |antimilitarisme |réfractaire armée |résistance non violente |désobéissance civile |communication non violente |conflit non violent |action directe |légitime défense |maltraitance des adultes |maltraitance personnes handicapées |maltraitance personnes âgées |prévention spécialisée |maintien ordre |civilité |étiquette|politesse |galanterie |école paix |harcèlement psychologique |précarité |vulnérabilité psychologique |solidarité (notion) |travail (économie) |santé au travail |violences sexuelles au travail |dépénalisation homosexualité |biphobie |panphobie |transphobie |hétérosexisme |hétéronormativité |thérapie de conversion |homosexualité |bisexualité |pansexualité|viol correctif|homophobie|anormalité |conformisme |contreculture |norme sociale |stigmatisation |résistance|outsiders|justice |police |corruption |observatoire national de la délinquance |prison |châtiment|violence psychologique |criminalité|prison en france |prison aux états-unis |délit pénal |infraction |criminalité financière |crime organisé |cybercriminalité |colère |fureur |haine |tempérance\")])\n",
    "#sort une série avec les mots contenus dans le fichier\n",
    "  return(e_violence)"
   ]
  },
  {
   "cell_type": "code",
   "execution_count": 11,
   "metadata": {},
   "outputs": [],
   "source": [
    "e = {\"LREM\" : read_trigrams_violence(\"trigrams_lrem\"),\n",
    "     \"LFI\" : read_trigrams_violence(\"trigrams_lfi\"),\n",
    "    \"Les Républicains\" : read_trigrams_violence(\"trigrams_lr\"),\n",
    "    \"Rassemblement National\" : read_trigrams_violence(\"trigrams_rn\"),\n",
    "    \"EELV\" : read_trigrams_violence(\"trigrams_eelv\"),\n",
    "    \"Centre Droit\" : read_trigrams_violence(\"trigrams_centre\"),\n",
    "    \"Principaux médias\" : read_trigrams_violence(\"bigrams_mm\"),\n",
    "    \"Support socialiste\" : read_trigrams_violence(\"trigrams_soc\")}\n",
    "df = pd.DataFrame(e)\n",
    "df.to_latex(\"violence_trigrams.tex\")"
   ]
  },
  {
   "cell_type": "code",
   "execution_count": 6,
   "metadata": {},
   "outputs": [],
   "source": [
    "\n"
   ]
  },
  {
   "cell_type": "code",
   "execution_count": null,
   "metadata": {},
   "outputs": [],
   "source": []
  },
  {
   "cell_type": "code",
   "execution_count": null,
   "metadata": {},
   "outputs": [],
   "source": []
  },
  {
   "cell_type": "code",
   "execution_count": null,
   "metadata": {},
   "outputs": [],
   "source": []
  }
 ],
 "metadata": {
  "kernelspec": {
   "display_name": "Python 3",
   "language": "python",
   "name": "python3"
  },
  "language_info": {
   "codemirror_mode": {
    "name": "ipython",
    "version": 3
   },
   "file_extension": ".py",
   "mimetype": "text/x-python",
   "name": "python",
   "nbconvert_exporter": "python",
   "pygments_lexer": "ipython3",
   "version": "3.7.4"
  }
 },
 "nbformat": 4,
 "nbformat_minor": 4
}
