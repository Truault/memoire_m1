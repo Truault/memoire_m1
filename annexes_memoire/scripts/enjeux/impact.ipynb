{
 "cells": [
  {
   "cell_type": "code",
   "execution_count": 1,
   "metadata": {},
   "outputs": [],
   "source": [
    "import pandas as pd\n",
    "import matplotlib.pyplot as plt\n",
    "import numpy as np"
   ]
  },
  {
   "cell_type": "code",
   "execution_count": 2,
   "metadata": {},
   "outputs": [],
   "source": [
    "##mots\n",
    "def read_words_impact(file) :\n",
    "  words = pd.read_csv(file)\n",
    "  df = pd.DataFrame(words, columns = [\"Words\", \"Focus\"])\n",
    "  mots = df.loc[0:100]\n",
    "  s = pd.Series(df[\"Words\"]).astype(str)\n",
    "  e_catastrophe= s[s.str.contains(\"rechauffement|urconsommation|vivant|flore|faune|extinction|COP|changer|CAE|dérèglement|crise|accord|carbone|Terre|planète|radiatif|biosphère|changement|limat|climatique|limat|limatologie|autosuffisance|lterconsommation|consensus|déni|climatosceptique|durable|écosystème|ffets|energie|renouvelable|mpreinte|njeux|nvironnement|océan|ensoleillement|niveau|mer|rotection|yoto|arctique|méthane|risque|taxe|transition|canicule|crue|ypercyclone|incendie|pollution|tempête|OCDE|ONERC|décroissance|alterconsommation|gaspillage|anthropocène|autosuffisance|conservation|environnementalisme|environnement\")]\n",
    "#sort une série avec les mots contenus dans le fichier\n",
    "  return(e_catastrophe)"
   ]
  },
  {
   "cell_type": "code",
   "execution_count": 3,
   "metadata": {},
   "outputs": [],
   "source": [
    "a = {\"LREM\" : read_words_impact(\"words_lrem\"), \n",
    "     \"LR\" : read_words_impact(\"words_lr\"), \n",
    "     \"RN\" : read_words_impact(\"words_rn\"),\n",
    "    \"LFI\" : read_words_impact(\"words_lfi\"),\n",
    "    \"EELV\" : read_words_impact(\"words_eelv\"),\n",
    "    \"centre-droit\" : read_words_impact(\"words_centre\"),\n",
    "    \"socialistes\" : read_words_impact(\"words_soc\"),\n",
    "    \"principaux médias\" : read_words_impact(\"words_mm\")\n",
    "    }\n",
    "df = pd.DataFrame(a)\n",
    "df.to_latex(\"read_words_impact.tex\")"
   ]
  },
  {
   "cell_type": "code",
   "execution_count": 4,
   "metadata": {},
   "outputs": [],
   "source": [
    "##impact\n",
    "def read_bigrams_impact(file) :\n",
    "  words = pd.read_csv(file)\n",
    "  df = pd.DataFrame(words, columns = [\"Focus Values\", \"Focus\"])\n",
    "  s = pd.Series(df[\"Focus Values\"]).astype(str)\n",
    "  e_catastrophe= s[s.str.contains(\"rechauffement|urconsommation|vivant|flore|faune|extinction|COP|changer|CAE|dérèglement|crise|accord|carbone|Terre|planète|radiatif|biosphère|changement|limat|climatique|limat|limatologie|autosuffisance|lterconsommation|consensus|déni|climatosceptique|durable|écosystème|ffets|energie|renouvelable|mpreinte|njeux|nvironnement|océan|ensoleillement|niveau|mer|rotection|yoto|arctique|méthane|risque|taxe|transition|canicule|crue|ypercyclone|incendie|pollution|tempête|OCDE|ONERC|décroissance|alterconsommation|gaspillage|anthropocène|autosuffisance|conservation|environnementalisme|environnement\")]\n",
    "#sort une série avec les mots contenus dans le fichier\n",
    "  return(e_catastrophe)"
   ]
  },
  {
   "cell_type": "code",
   "execution_count": 5,
   "metadata": {},
   "outputs": [],
   "source": [
    "e = {\"LREM\" : read_bigrams_impact(\"bigrams_lrem\"),\n",
    "     \"LFI\" : read_bigrams_impact(\"bigrams_lfi\"),\n",
    "    \"Les Républicains\" : read_bigrams_impact(\"bigrams_lr\"),\n",
    "    \"Rassemblement National\" : read_bigrams_impact(\"bigrams_rn\"),\n",
    "    \"EELV\" : read_bigrams_impact(\"bigrams_eelv\"),\n",
    "    \"Centre Droit\" : read_bigrams_impact(\"bigrams_centre\"),\n",
    "     \"Socialistes\" : read_bigrams_impact(\"bigrams_soc\"),\n",
    "    \"Principaux médias\" : read_bigrams_impact(\"bigrams_mm\")}\n",
    "df = pd.DataFrame(e)\n",
    "df.to_latex(\"read_bigrams_impact.tex\")"
   ]
  },
  {
   "cell_type": "code",
   "execution_count": 7,
   "metadata": {},
   "outputs": [],
   "source": [
    "##trigrams\n",
    "def read_trigrams_impact(file) :\n",
    "  words = pd.read_csv(file)\n",
    "  df = pd.DataFrame(words, columns = [\"Focus Values\", \"Focus\"])\n",
    "  s = pd.Series(df[\"Focus Values\"]).astype(str)\n",
    "  e_impact= s[s.str.contains(\"rechauffement|urconsommation|vivant|flore|faune|extinction|COP|changer|CAE|dérèglement|crise|accord|carbone|Terre|planète|radiatif|biosphère|changement|limat|climatique|limat|limatologie|autosuffisance|lterconsommation|consensus|déni|climatosceptique|durable|écosystème|ffets|energie|renouvelable|mpreinte|njeux|nvironnement|océan|ensoleillement|niveau|mer|rotection|yoto|arctique|méthane|risque|taxe|transition|canicule|crue|ypercyclone|incendie|pollution|tempête|OCDE|ONERC|décroissance|alterconsommation|gaspillage|anthropocène|autosuffisance|conservation|environnementalisme|environnement\")]\n",
    "#sort une série avec les mots contenus dans le fichier\n",
    "  return(e_impact)"
   ]
  },
  {
   "cell_type": "code",
   "execution_count": 8,
   "metadata": {},
   "outputs": [],
   "source": [
    "e = {\"LREM\" : read_trigrams_impact(\"trigrams_lrem\"),\n",
    "     \"LFI\" : read_trigrams_impact(\"trigrams_lfi\"),\n",
    "    \"Les Républicains\" : read_trigrams_impact(\"trigrams_lr\"),\n",
    "    \"Rassemblement National\" : read_trigrams_impact(\"trigrams_rn\"),\n",
    "    \"EELV\" : read_trigrams_impact(\"trigrams_eelv\"),\n",
    "    \"Centre Droit\" : read_trigrams_impact(\"trigrams_centre\"),\n",
    "     \"Socialistes\" : read_trigrams_impact(\"trigrams_soc\"),\n",
    "    \"Principaux médias\" : read_trigrams_impact(\"trigrams_mm\")}\n",
    "df = pd.DataFrame(e)\n",
    "df.to_latex(\"read_trigrams_impact.tex\")"
   ]
  },
  {
   "cell_type": "code",
   "execution_count": null,
   "metadata": {},
   "outputs": [],
   "source": []
  }
 ],
 "metadata": {
  "kernelspec": {
   "display_name": "Python 3",
   "language": "python",
   "name": "python3"
  },
  "language_info": {
   "codemirror_mode": {
    "name": "ipython",
    "version": 3
   },
   "file_extension": ".py",
   "mimetype": "text/x-python",
   "name": "python",
   "nbconvert_exporter": "python",
   "pygments_lexer": "ipython3",
   "version": "3.7.4"
  }
 },
 "nbformat": 4,
 "nbformat_minor": 4
}
