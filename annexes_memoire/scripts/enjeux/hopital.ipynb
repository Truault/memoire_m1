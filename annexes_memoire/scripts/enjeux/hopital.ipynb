{
 "cells": [
  {
   "cell_type": "code",
   "execution_count": null,
   "metadata": {},
   "outputs": [],
   "source": []
  },
  {
   "cell_type": "code",
   "execution_count": 6,
   "metadata": {},
   "outputs": [],
   "source": [
    "import pandas as pd\n",
    "import matplotlib.pyplot as plt\n",
    "import numpy as np"
   ]
  },
  {
   "cell_type": "code",
   "execution_count": 7,
   "metadata": {},
   "outputs": [],
   "source": [
    "##Je n'ai pas conservé l'analyse des mots car elle n'est pas signifiante. \n",
    "def read_bigrams_hopital(file) :\n",
    "  words = pd.read_csv(file)\n",
    "  df = pd.DataFrame(words, columns = [\"Focus Values\", \"Focus\"])\n",
    "  s = pd.Series(df[\"Focus Values\"]).astype(str)\n",
    "  e_hopital= s[s.str.contains(\"hopital|hopitaux|deficit|sécu\")]\n",
    "  #sort une série avec les mots contenus dans le fichier\n",
    "  return(e_hopital)"
   ]
  },
  {
   "cell_type": "code",
   "execution_count": 8,
   "metadata": {},
   "outputs": [],
   "source": [
    "e = {\"LREM\" : read_bigrams_hopital(\"bigrams_lrem\"),\n",
    "     \"LFI\" : read_bigrams_hopital(\"bigrams_lfi\"),\n",
    "    \"Les Républicains\" : read_bigrams_hopital(\"trigrams_lr\"),\n",
    "    \"Rassemblement National\" : read_bigrams_hopital(\"bigrams_rn\"),\n",
    "    \"EELV\" : read_bigrams_hopital(\"bigrams_eelv\"),\n",
    "    \"Centre Droit\" : read_bigrams_hopital(\"bigrams_centre\"),\n",
    "    \"Principaux médias\" : read_bigrams_hopital(\"bigrams_mm\")}\n",
    "df = pd.DataFrame(e)\n",
    "df.to_latex(\"read_bigrams_hopital.tex\")"
   ]
  },
  {
   "cell_type": "code",
   "execution_count": 9,
   "metadata": {},
   "outputs": [],
   "source": [
    "def read_trigrams_hopital(file) :\n",
    "  words = pd.read_csv(file)\n",
    "  df = pd.DataFrame(words, columns = [\"Focus Values\", \"Focus\"])\n",
    "  s = pd.Series(df[\"Focus Values\"]).astype(str)\n",
    "  e_hopital= s[s.str.contains(\"hopital|hopitaux|deficit|sécu\")]\n",
    "  #sort une série avec les mots contenus dans le fichier\n",
    "  return(e_hopital)"
   ]
  },
  {
   "cell_type": "code",
   "execution_count": 10,
   "metadata": {},
   "outputs": [],
   "source": [
    "e = {\"LREM\" : read_trigrams_hopital(\"trigrams_lrem\"),\n",
    "     \"LFI\" : read_trigrams_hopital(\"trigrams_lfi\"),\n",
    "    \"Les Républicains\" : read_trigrams_hopital(\"trigrams_lr\"),\n",
    "    \"Rassemblement National\" : read_trigrams_hopital(\"trigrams_rn\"),\n",
    "    \"EELV\" : read_trigrams_hopital(\"trigrams_eelv\"),\n",
    "    \"Centre Droit\" : read_trigrams_hopital(\"trigrams_centre\"),\n",
    "    \"Principaux médias\" : read_trigrams_hopital(\"trigrams_mm\")}\n",
    "\n",
    "df = pd.DataFrame(e)\n",
    "df.to_latex(\"read_bigrams_hopital.tex\")"
   ]
  },
  {
   "cell_type": "code",
   "execution_count": null,
   "metadata": {},
   "outputs": [],
   "source": []
  }
 ],
 "metadata": {
  "kernelspec": {
   "display_name": "Python 3",
   "language": "python",
   "name": "python3"
  },
  "language_info": {
   "codemirror_mode": {
    "name": "ipython",
    "version": 3
   },
   "file_extension": ".py",
   "mimetype": "text/x-python",
   "name": "python",
   "nbconvert_exporter": "python",
   "pygments_lexer": "ipython3",
   "version": "3.7.4"
  }
 },
 "nbformat": 4,
 "nbformat_minor": 4
}
