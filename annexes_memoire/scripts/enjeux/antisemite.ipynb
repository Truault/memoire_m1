{
 "cells": [
  {
   "cell_type": "code",
   "execution_count": 1,
   "metadata": {},
   "outputs": [],
   "source": [
    "###importations des librairies nécessaires. Voir le fichier \"LISEZ_MOI\" pour \n",
    "###plus d'informations\n",
    "\n",
    "import pandas as pd\n",
    "import matplotlib.pyplot as plt\n",
    "import numpy as np"
   ]
  },
  {
   "cell_type": "code",
   "execution_count": 2,
   "metadata": {},
   "outputs": [],
   "source": [
    "###je définis une fonction permettant de prendre un fichier csv \n",
    "####(voir dossier \"fichiers_csv) contenant les mots triés par groupe. \n",
    "def read_words_antisemite(file) :\n",
    "  words = pd.read_csv(file)\n",
    "  df = pd.DataFrame(words, columns = [\"Words\", \"Focus\"])\n",
    "  s = pd.Series(df[\"Words\"]).astype(str)\n",
    "####je définis pour chaque enjeu la liste des mots qui lui sont synonymes, \n",
    "#####ou qui permette de le retrouver dans le csv. Cette liste de mots ne change pas\n",
    "###quel que soit la taille du n-gram.\n",
    "  e_antisemite = s[s.str.contains(\"juif|sionisme|judaïsme|brûlé|casseurs\")]\n",
    "  return(e_antisemite)"
   ]
  },
  {
   "cell_type": "code",
   "execution_count": 6,
   "metadata": {},
   "outputs": [],
   "source": [
    "###j'applique la fonction à chacun des fichiers csv, ce qui me donne des \"series\"\n",
    "###je met ces series dans un dictonnaire pour pouvoir le convertir.\n",
    "d = {\"LREM\" : read_words_antisemite(\"words_lrem\"), \n",
    "     \"LR\" : read_words_antisemite(\"words_lr\"), \n",
    "     \"RN\" : read_words_antisemite(\"words_rn\"),\n",
    "    \"LFI\" : read_words_antisemite(\"words_lfi\"),\n",
    "    \"EELV\" : read_words_antisemite(\"words_eelv\"),\n",
    "    \"centre-droit\" : read_words_antisemite(\"words_centre\"),\n",
    "    \"socialistes\" : read_words_antisemite(\"words_soc\"),\n",
    "    \"principaux médias\" : read_words_antisemite(\"words_mm\")\n",
    "    }\n",
    "\n",
    "df = pd.DataFrame(d)\n",
    "##je convertis le dictionnaire sous forme de DataFrame.\n",
    "df.to_latex(\"words_antisémite.tex\")\n",
    "##je stocke le dataframe dans un fichier.tex pour le mettre en forme dans latex\n",
    "###(voir annexes)"
   ]
  },
  {
   "cell_type": "code",
   "execution_count": 7,
   "metadata": {},
   "outputs": [],
   "source": [
    "##je réitère l'opération pour les bi-grammes\n",
    "def read_bigrams_antisemite(file) :\n",
    "  words = pd.read_csv(file)\n",
    "  df = pd.DataFrame(words, columns = [\"Focus Values\", \"Focus\"])\n",
    "  s = pd.Series(df[\"Focus Values\"]).astype(str)\n",
    "  e_antisemite = s[s.str.contains(\"juif|sionisme|judaïsme|brûlé|casseurs\")]\n",
    "  return(e_antisemite)"
   ]
  },
  {
   "cell_type": "code",
   "execution_count": 8,
   "metadata": {},
   "outputs": [],
   "source": [
    "e = {\"LREM\" : read_bigrams_antisemite(\"bigrams_lrem\"),\n",
    "     \"LFI\" : read_bigrams_antisemite(\"bigrams_lfi\"),\n",
    "    \"Les Républicains\" : read_bigrams_antisemite(\"bigrams_lr\"),\n",
    "    \"Rassemblement National\" : read_bigrams_antisemite(\"bigrams_rn\"),\n",
    "    \"EELV\" : read_bigrams_antisemite(\"bigrams_eelv\"),\n",
    "    \"Centre Droit\" : read_bigrams_antisemite(\"bigrams_centre\"),\n",
    "     \"Socialistes\" : read_bigrams_antisemite(\"bigrams_soc\"),\n",
    "    \"Principaux médias\" : read_bigrams_antisemite(\"bigrams_mm\")}\n",
    "df = pd.DataFrame(e)\n",
    "df.to_latex(\"bigrams_antisémite.tex\")\n",
    "##de même, je stocke le dataframe dans un fichier.tex pour le mettre en forme dans latex\n",
    "###(voir annexes)"
   ]
  },
  {
   "cell_type": "code",
   "execution_count": 9,
   "metadata": {},
   "outputs": [],
   "source": [
    "##je réitère l'opération pour les tri-grammes\n",
    "def read_trigrams_antisemite(file) :\n",
    "  words = pd.read_csv(file)\n",
    "  df = pd.DataFrame(words, columns = [\"Focus Values\", \"Focus\"])\n",
    "  s = pd.Series(df[\"Focus Values\"]).astype(str)\n",
    "  e_antisemite = s[s.str.contains(\"juif|sionisme|judaïsme|brûlé|casseurs\")]\n",
    "  return(e_antisemite)"
   ]
  },
  {
   "cell_type": "code",
   "execution_count": 10,
   "metadata": {},
   "outputs": [],
   "source": [
    "e = {\"LREM\" : read_trigrams_antisemite(\"trigrams_lrem\"),\n",
    "     \"LFI\" : read_trigrams_antisemite(\"trigrams_lfi\"),\n",
    "    \"Les Républicains\" : read_trigrams_antisemite(\"trigrams_lr\"),\n",
    "    \"Rassemblement National\" : read_trigrams_antisemite(\"trigrams_rn\"),\n",
    "    \"EELV\" : read_trigrams_antisemite(\"trigrams_eelv\"),\n",
    "    \"Centre Droit\" : read_trigrams_antisemite(\"trigrams_centre\"),\n",
    "     \"Socialistes\" : read_trigrams_antisemite(\"trigrams_soc\"),\n",
    "    \"Principaux médias\" : read_trigrams_antisemite(\"trigrams_mm\")}\n",
    "df = pd.DataFrame(e)\n",
    "df.to_latex(\"trigrams_antisémite.tex\")\n",
    "##de même, je stocke le dataframe dans un fichier.tex pour le mettre en forme dans latex\n",
    "###(voir annexes)"
   ]
  },
  {
   "cell_type": "code",
   "execution_count": null,
   "metadata": {},
   "outputs": [],
   "source": []
  }
 ],
 "metadata": {
  "kernelspec": {
   "display_name": "Python 3",
   "language": "python",
   "name": "python3"
  },
  "language_info": {
   "codemirror_mode": {
    "name": "ipython",
    "version": 3
   },
   "file_extension": ".py",
   "mimetype": "text/x-python",
   "name": "python",
   "nbconvert_exporter": "python",
   "pygments_lexer": "ipython3",
   "version": "3.6.5"
  }
 },
 "nbformat": 4,
 "nbformat_minor": 4
}
