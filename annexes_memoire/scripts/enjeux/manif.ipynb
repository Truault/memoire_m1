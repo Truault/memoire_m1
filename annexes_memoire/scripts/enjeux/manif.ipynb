{
 "cells": [
  {
   "cell_type": "code",
   "execution_count": 3,
   "metadata": {},
   "outputs": [],
   "source": [
    "import pandas as pd\n",
    "import matplotlib.pyplot as plt\n",
    "import numpy as np"
   ]
  },
  {
   "cell_type": "code",
   "execution_count": null,
   "metadata": {},
   "outputs": [],
   "source": []
  },
  {
   "cell_type": "code",
   "execution_count": 4,
   "metadata": {},
   "outputs": [],
   "source": [
    "##mots\n",
    "def read_words_manif(file) :\n",
    "  words = pd.read_csv(file)\n",
    "  df = pd.DataFrame(words, columns = [\"Words\", \"Focus\"])\n",
    "  s = pd.Series(df[\"Words\"]).astype(str)\n",
    "  e_manif = (s[s.str.contains(\"manifestation|vélorution|zone à défendre|street medics|slogan politique|syndicalisme|opinion publique|slogan|liberté de réunion|résistance à oppression|liberté opinion|altermondialisme|mouvement social|militantisme|grève|démocratie|concert casseroles|démocratie directe|grève|militantisme|mouvement social|liberté opinion|liberté de réunion|opération escargot|opération péage gratuit|opinion publique|résistance oppression|slogan|slogan politique|street medics|syndicalisme|vélorution|zone à défendre|activisme antivoiture|masse critique|altertour|aménagement militant|activisme politique|aménagement du territoire|redistribution des richesses|critique du développement|décroissance|désobéissance civile|dissidence institutionnelle|écologie politique|low-tech|objection de conscience|résistance civile|résistance non violente|résistance|simplicité volontaire|squat|technocritique|zone autonome temporaire|zone non droit|action directe|anarcho syndicalisme|syndicalisme révolutionnaire|charte amiens|droit au travail|lutte des classes|syndicalisme de lutte|syndicalisme chrétien|syndicat étudiant|syndicat lycéen|syndicat professionnel|paritarisme|syndicalisme jaune|antisyndicalisme|conscience collective|contrôle social|délit opinion|démocratie participative|désinformation|doxa|espace public|foule|idéologie|influence sociale|lavage de cerveau|leader opinion|légende urbaine|lieu commun|lobbies|manipulation mentale|pensée de groupe|pensée unique|propagande|sondage opinion|soumission autorité|spin doctor|spirale du silence|liberté association|manifestation|oppression|martyr|monarchomaque|droits de homme|liberté de conscience|libre pensée|liberté de penser|censure|forum des peuples|forum social européen|forum social mondial|internationalisme|larzac|libéralisme économique|mondialisme|mouvement alternatif|taxe lauré|taxe tobin|changement social|nouveaux mouvements sociaux|engagement|piquet de grève|mouvement ouvrier|syndicat jaune|briseur de grève|assemblée générale|campagne électorale|cyberdémocratie|démocratie athénienne|démocratie locale|démocratie représentative|démocratisation|initiative populaire|indice de démocratie|marketing politique|parti politique|société civile|suffrage universel|système électoral|tirage au sort|totalitarisme inversé|contrat social|charivari|tintamarre|acadie|tapage|escrache|tohu-bohu|anarchisme|antipartisme|communisme de conseils|concertation|conseil ouvrier|décentralisation|démocratie liquide|démocratie virtuelle|écologie sociale|initiative populaire|justice|localisme|municipalisme libertaire|participation|république constitutionnelle|vote électronique\")])\n",
    "\n",
    "  return(e_manif)"
   ]
  },
  {
   "cell_type": "code",
   "execution_count": 5,
   "metadata": {},
   "outputs": [],
   "source": [
    "a = {\"LREM\" : read_words_manif(\"words_lrem\"), \n",
    "     \"LR\" : read_words_manif(\"words_lr\"), \n",
    "     \"RN\" : read_words_manif(\"words_rn\"),\n",
    "    \"LFI\" : read_words_manif(\"words_lfi\"),\n",
    "    \"EELV\" : read_words_manif(\"words_eelv\"),\n",
    "    \"centre-droit\" : read_words_manif(\"words_centre\"),\n",
    "    \"socialistes\" : read_words_manif(\"words_soc\"),\n",
    "    \"principaux médias\" : read_words_manif(\"words_mm\")\n",
    "    }\n",
    "\n",
    "df = pd.DataFrame(a)\n",
    "df.to_latex(\"read_words_manif.tex\")"
   ]
  },
  {
   "cell_type": "code",
   "execution_count": 6,
   "metadata": {},
   "outputs": [],
   "source": [
    "##bigrams\n",
    "def read_bigrams_manif(file) :\n",
    "  words = pd.read_csv(file)\n",
    "  df = pd.DataFrame(words, columns = [\"Focus Values\", \"Focus\"])\n",
    "  s = pd.Series(df[\"Focus Values\"]).astype(str)\n",
    "  e_manif = (s[s.str.contains(\"manifestation|vélorution|zone à défendre|street medics|slogan politique|syndicalisme|opinion publique|slogan|liberté de réunion|résistance à oppression|liberté opinion|altermondialisme|mouvement social|militantisme|grève|démocratie|concert casseroles|démocratie directe|grève|militantisme|mouvement social|liberté opinion|liberté de réunion|opération escargot|opération péage gratuit|opinion publique|résistance oppression|slogan|slogan politique|street medics|syndicalisme|vélorution|zone à défendre|activisme antivoiture|masse critique|altertour|aménagement militant|activisme politique|aménagement du territoire|redistribution des richesses|critique du développement|décroissance|désobéissance civile|dissidence institutionnelle|écologie politique|low-tech|objection de conscience|résistance civile|résistance non violente|résistance|simplicité volontaire|squat|technocritique|zone autonome temporaire|zone non droit|action directe|anarcho syndicalisme|syndicalisme révolutionnaire|charte amiens|droit au travail|lutte des classes|syndicalisme de lutte|syndicalisme chrétien|syndicat étudiant|syndicat lycéen|syndicat professionnel|paritarisme|syndicalisme jaune|antisyndicalisme|conscience collective|contrôle social|délit opinion|démocratie participative|désinformation|doxa|espace public|foule|idéologie|influence sociale|lavage de cerveau|leader opinion|légende urbaine|lieu commun|lobbies|manipulation mentale|pensée de groupe|pensée unique|propagande|sondage opinion|soumission autorité|spin doctor|spirale du silence|liberté association|manifestation|oppression|martyr|monarchomaque|droits de homme|liberté de conscience|libre pensée|liberté de penser|censure|forum des peuples|forum social européen|forum social mondial|internationalisme|larzac|libéralisme économique|mondialisme|mouvement alternatif|taxe lauré|taxe tobin|changement social|nouveaux mouvements sociaux|engagement|piquet de grève|mouvement ouvrier|syndicat jaune|briseur de grève|assemblée générale|campagne électorale|cyberdémocratie|démocratie athénienne|démocratie locale|démocratie représentative|démocratisation|initiative populaire|indice de démocratie|marketing politique|parti politique|société civile|suffrage universel|système électoral|tirage au sort|totalitarisme inversé|contrat social|charivari|tintamarre|acadie|tapage|escrache|tohu-bohu|anarchisme|antipartisme|communisme de conseils|concertation|conseil ouvrier|décentralisation|démocratie liquide|démocratie virtuelle|écologie sociale|initiative populaire|justice|localisme|municipalisme libertaire|participation|république constitutionnelle|vote électronique\")])\n",
    "#sort une série avec les mots contenus dans le fichier\n",
    "  return(e_manif)"
   ]
  },
  {
   "cell_type": "code",
   "execution_count": 7,
   "metadata": {},
   "outputs": [],
   "source": [
    "e = {\"LREM\" : read_bigrams_manif(\"bigrams_lrem\"),\n",
    "     \"LFI\" : read_bigrams_manif(\"bigrams_lfi\"),\n",
    "    \"Les Républicains\" : read_bigrams_manif(\"bigrams_lr\"),\n",
    "    \"Rassemblement National\" : read_bigrams_manif(\"bigrams_rn\"),\n",
    "    \"EELV\" : read_bigrams_manif(\"bigrams_eelv\"),\n",
    "    \"Centre Droit\" : read_bigrams_manif(\"bigrams_centre\"),\n",
    "    \"Principaux médias\" : read_bigrams_manif(\"bigrams_mm\"),\n",
    "     \"Support socialiste\" : read_bigrams_manif(\"bigrams_soc\")}\n",
    "df = pd.DataFrame(e)\n",
    "df.to_latex(\"read_bigrams_manif.tex\")"
   ]
  },
  {
   "cell_type": "code",
   "execution_count": null,
   "metadata": {},
   "outputs": [],
   "source": []
  },
  {
   "cell_type": "code",
   "execution_count": null,
   "metadata": {},
   "outputs": [],
   "source": []
  }
 ],
 "metadata": {
  "kernelspec": {
   "display_name": "Python 3",
   "language": "python",
   "name": "python3"
  },
  "language_info": {
   "codemirror_mode": {
    "name": "ipython",
    "version": 3
   },
   "file_extension": ".py",
   "mimetype": "text/x-python",
   "name": "python",
   "nbconvert_exporter": "python",
   "pygments_lexer": "ipython3",
   "version": "3.7.4"
  }
 },
 "nbformat": 4,
 "nbformat_minor": 4
}
