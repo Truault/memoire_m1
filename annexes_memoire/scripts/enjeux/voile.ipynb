{
 "cells": [
  {
   "cell_type": "code",
   "execution_count": 1,
   "metadata": {},
   "outputs": [],
   "source": [
    "import pandas as pd\n",
    "import matplotlib.pyplot as plt\n",
    "import numpy as np"
   ]
  },
  {
   "cell_type": "code",
   "execution_count": 4,
   "metadata": {},
   "outputs": [],
   "source": [
    "def read_words_voile(file) :\n",
    "  words = pd.read_csv(file)\n",
    "  df = pd.DataFrame(words, columns = [\"Words\", \"Focus\"])\n",
    "  s = pd.Series(df[\"Words\"]).astype(str)\n",
    "  e_voile= s[s.str.contains(\"voile|hijab|burqa|niqab|burkini\")]\n",
    "  #sort une série avec les mots contenus dans le fichier\n",
    "  return(e_voile)"
   ]
  },
  {
   "cell_type": "code",
   "execution_count": 6,
   "metadata": {},
   "outputs": [],
   "source": [
    "a = {\"LREM\" : read_words_voile(\"words_lrem\"), \n",
    "     \"LR\" : read_words_voile(\"words_lr\"), \n",
    "     \"RN\" : read_words_voile(\"words_rn\"),\n",
    "    \"LFI\" : read_words_voile(\"words_lfi\"),\n",
    "    \"EELV\" : read_words_voile(\"words_eelv\"),\n",
    "    \"centre-droit\" : read_words_voile(\"words_centre\"),\n",
    "    \"socialistes\" : read_words_voile(\"words_soc\"),\n",
    "    \"principaux médias\" : read_words_voile(\"words_mm\")\n",
    "    }\n",
    "df = pd.DataFrame(a)\n",
    "df.to_latex(\"voile_words.tex\")"
   ]
  },
  {
   "cell_type": "code",
   "execution_count": 7,
   "metadata": {},
   "outputs": [],
   "source": [
    "def read_bigrams_voile(file) :\n",
    "  words = pd.read_csv(file)\n",
    "  df = pd.DataFrame(words, columns = [\"Focus Values\", \"Focus\"])\n",
    "  s = pd.Series(df[\"Focus Values\"]).astype(str)\n",
    "  e_voile= s[s.str.contains(\"voile|hijab|burqa|niqab|burkini\")]\n",
    "  #sort une série avec les mots contenus dans le fichier\n",
    "  return(e_voile)"
   ]
  },
  {
   "cell_type": "code",
   "execution_count": 8,
   "metadata": {},
   "outputs": [],
   "source": [
    "e = {\"LREM\" : read_bigrams_voile(\"bigrams_lrem\"),\n",
    "     \"LFI\" : read_bigrams_voile(\"bigrams_lfi\"),\n",
    "    \"Les Républicains\" : read_bigrams_voile(\"bigrams_lr\"),\n",
    "    \"Rassemblement National\" : read_bigrams_voile(\"bigrams_rn\"),\n",
    "    \"EELV\" : read_bigrams_voile(\"bigrams_eelv\"),\n",
    "    \"Centre Droit\" : read_bigrams_voile(\"bigrams_centre\"),\n",
    "     \"Socialistes\" : read_bigrams_voile(\"bigrams_soc\"),\n",
    "    \"Principaux médias\" : read_bigrams_voile(\"bigrams_mm\")}\n",
    "df = pd.DataFrame(e)\n",
    "df.to_latex(\"voile_bigrams.tex\")"
   ]
  },
  {
   "cell_type": "code",
   "execution_count": 10,
   "metadata": {},
   "outputs": [],
   "source": [
    "def read_trigrams_voile(file) :\n",
    "  words = pd.read_csv(file)\n",
    "  df = pd.DataFrame(words, columns = [\"Focus Values\", \"Focus\"])\n",
    "  s = pd.Series(df[\"Focus Values\"]).astype(str)\n",
    "  e_voile= s[s.str.contains(\"voile|hijab|burqa|niqab|burkini\")]\n",
    "  #sort une série avec les mots contenus dans le fichier\n",
    "  return(e_voile)"
   ]
  },
  {
   "cell_type": "code",
   "execution_count": 11,
   "metadata": {},
   "outputs": [],
   "source": [
    "e = {\"LREM\" : read_trigrams_voile(\"trigrams_lrem\"),\n",
    "     \"LFI\" : read_trigrams_voile(\"trigrams_lfi\"),\n",
    "    \"Les Républicains\" : read_trigrams_voile(\"trigrams_lr\"),\n",
    "    \"Rassemblement National\" : read_trigrams_voile(\"trigrams_rn\"),\n",
    "    \"EELV\" : read_trigrams_voile(\"trigrams_eelv\"),\n",
    "    \"Centre Droit\" : read_trigrams_voile(\"trigrams_centre\"),\n",
    "    \"Principaux médias\" : read_trigrams_voile(\"trigrams_mm\")}\n",
    "\n",
    "df = pd.DataFrame(a)\n",
    "df.to_latex(\"voile_trigrams.tex\")"
   ]
  },
  {
   "cell_type": "code",
   "execution_count": null,
   "metadata": {},
   "outputs": [],
   "source": []
  }
 ],
 "metadata": {
  "kernelspec": {
   "display_name": "Python 3",
   "language": "python",
   "name": "python3"
  },
  "language_info": {
   "codemirror_mode": {
    "name": "ipython",
    "version": 3
   },
   "file_extension": ".py",
   "mimetype": "text/x-python",
   "name": "python",
   "nbconvert_exporter": "python",
   "pygments_lexer": "ipython3",
   "version": "3.7.4"
  }
 },
 "nbformat": 4,
 "nbformat_minor": 4
}
