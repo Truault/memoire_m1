{
 "cells": [
  {
   "cell_type": "code",
   "execution_count": 3,
   "metadata": {},
   "outputs": [],
   "source": [
    "####importation des librairies necéssaires. Voir \"LISEZ_MOI\" \n",
    "#####    pour plus d'informations \n",
    "import pandas as pd\n",
    "import numpy as np"
   ]
  },
  {
   "cell_type": "code",
   "execution_count": null,
   "metadata": {},
   "outputs": [],
   "source": []
  },
  {
   "cell_type": "code",
   "execution_count": null,
   "metadata": {},
   "outputs": [],
   "source": []
  },
  {
   "cell_type": "code",
   "execution_count": 4,
   "metadata": {},
   "outputs": [],
   "source": [
    "## fonction qui prend un fichier csv et y recherche les \n",
    "###hashtags de la liste\n",
    "def read_hashtag_mm(file) :\n",
    "  words = pd.read_csv(file)\n",
    "  df = pd.DataFrame(words, columns = [\"Hashtags\", \"Focus\"])\n",
    "  s = pd.Series(df[\"Hashtags\"]).astype(str)\n",
    "##l'objectif est de voir comment les hashtags de chaque segment sont liés à une ou plusieures manifestations\n",
    "  e_manif= s[s.str.contains(\"GreveGenerale|oppression|ZAD|giletjaune|#fiersdelagreve|ecembre|écembre|manifestation|Greve16Decembre|anif|ClimateAction\")]\n",
    "  #sort une série avec les mots contenus dans le fichier\n",
    "  return(e_manif)"
   ]
  },
  {
   "cell_type": "code",
   "execution_count": 6,
   "metadata": {},
   "outputs": [],
   "source": [
    "### j'applique la fonction à chacuns des segments.\n",
    "###le résultat est une \"serie\", que je transforme en dictionnaire.\n",
    "e = {\"TV\": read_hashtag_mm(\"hashtags_tv\"),\n",
    "     \"TV nationale\" : read_hashtag_mm(\"hashtags_nat_tv\"),\n",
    "    \"Journalistes politiques\" : read_hashtag_mm(\"hashtags_pol_j\"),\n",
    "    \"Médias conservateurs \" : read_hashtag_mm(\"hashtags_cons\"),\n",
    "    #\"Médias bretagne\" : read_trigrams_crime(\"trigrams_bretagne\"),\n",
    "    \"Journalistes mainstream\" : read_hashtag_mm(\"hashtags_m_j\")}\n",
    "##je transforme le dictionnaire en DataFrame. \n",
    "df = pd.DataFrame(e)\n",
    "###et le DataFrame en fichier.tex\n",
    "df.to_latex(\"hashtags_manifestation.tex\")"
   ]
  },
  {
   "cell_type": "code",
   "execution_count": null,
   "metadata": {},
   "outputs": [],
   "source": []
  },
  {
   "cell_type": "code",
   "execution_count": null,
   "metadata": {},
   "outputs": [],
   "source": []
  }
 ],
 "metadata": {
  "kernelspec": {
   "display_name": "Python 3",
   "language": "python",
   "name": "python3"
  },
  "language_info": {
   "codemirror_mode": {
    "name": "ipython",
    "version": 3
   },
   "file_extension": ".py",
   "mimetype": "text/x-python",
   "name": "python",
   "nbconvert_exporter": "python",
   "pygments_lexer": "ipython3",
   "version": "3.6.5"
  }
 },
 "nbformat": 4,
 "nbformat_minor": 4
}
